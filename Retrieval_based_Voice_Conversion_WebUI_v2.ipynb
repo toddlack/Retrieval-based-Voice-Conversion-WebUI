{
 "cells": [
  {
   "attachments": {},
   "cell_type": "markdown",
   "metadata": {},
   "source": [
    "# [Retrieval-based-Voice-Conversion-WebUI](https://github.com/RVC-Project/Retrieval-based-Voice-Conversion-WebUI) Training notebook"
   ]
  },
  {
   "attachments": {},
   "cell_type": "markdown",
   "metadata": {
    "id": "ZFFCx5J80SGa"
   },
   "source": [
    "[![Open In Colab](https://colab.research.google.com/assets/colab-badge.svg)](https://colab.research.google.com/github/toddlack/Retrieval-based-Voice-Conversion-WebUI/blob/main/Retrieval_based_Voice_Conversion_WebUI_v2.ipynb)"
   ]
  },
  {
   "cell_type": "code",
   "execution_count": null,
   "metadata": {
    "id": "GmFP6bN9dvOq"
   },
   "outputs": [],
   "source": [
    "# @title #查看显卡\n",
    "!nvidia-smi"
   ]
  },
  {
   "cell_type": "code",
   "execution_count": null,
   "metadata": {
    "id": "jwu07JgqoFON"
   },
   "outputs": [],
   "source": [
    "# @title 挂载谷歌云盘\n",
    "\n",
    "from google.colab import drive\n",
    "\n",
    "drive.mount(\"/content/drive\")"
   ]
  },
  {
   "cell_type": "code",
   "execution_count": null,
   "metadata": {
    "id": "wjddIFr1oS3W"
   },
   "outputs": [
    {
     "name": "stderr",
     "output_type": "stream",
     "text": [
      "'apt-get' is not recognized as an internal or external command,\n",
      "operable program or batch file.\n"
     ]
    },
    {
     "name": "stdout",
     "output_type": "stream",
     "text": [
      "Requirement already satisfied: setuptools in c:\\programdata\\anaconda3\\lib\\site-packages (65.6.3)\n",
      "Collecting setuptools\n",
      "  Downloading setuptools-75.6.0-py3-none-any.whl.metadata (6.7 kB)\n",
      "Requirement already satisfied: wheel in c:\\users\\toddl\\appdata\\roaming\\python\\python310\\site-packages (0.43.0)\n",
      "Collecting wheel\n",
      "  Downloading wheel-0.45.1-py3-none-any.whl.metadata (2.3 kB)\n",
      "Downloading setuptools-75.6.0-py3-none-any.whl (1.2 MB)\n",
      "   ---------------------------------------- 0.0/1.2 MB ? eta -:--:--\n",
      "   - -------------------------------------- 0.0/1.2 MB 1.4 MB/s eta 0:00:01\n",
      "   --- ------------------------------------ 0.1/1.2 MB 1.1 MB/s eta 0:00:02\n",
      "   ----- ---------------------------------- 0.2/1.2 MB 1.1 MB/s eta 0:00:01\n",
      "   ------- -------------------------------- 0.2/1.2 MB 1.4 MB/s eta 0:00:01\n",
      "   --------- ------------------------------ 0.3/1.2 MB 1.3 MB/s eta 0:00:01\n",
      "   ------------ --------------------------- 0.4/1.2 MB 1.4 MB/s eta 0:00:01\n",
      "   -------------- ------------------------- 0.4/1.2 MB 1.4 MB/s eta 0:00:01\n",
      "   ------------------ --------------------- 0.6/1.2 MB 1.4 MB/s eta 0:00:01\n",
      "   -------------------- ------------------- 0.6/1.2 MB 1.3 MB/s eta 0:00:01\n",
      "   ---------------------- ----------------- 0.7/1.2 MB 1.4 MB/s eta 0:00:01\n",
      "   ------------------------- -------------- 0.8/1.2 MB 1.4 MB/s eta 0:00:01\n",
      "   --------------------------- ------------ 0.8/1.2 MB 1.5 MB/s eta 0:00:01\n",
      "   ------------------------------ --------- 0.9/1.2 MB 1.5 MB/s eta 0:00:01\n",
      "   -------------------------------- ------- 1.0/1.2 MB 1.5 MB/s eta 0:00:01\n",
      "   ------------------------------------ --- 1.1/1.2 MB 1.5 MB/s eta 0:00:01\n",
      "   -------------------------------------- - 1.2/1.2 MB 1.5 MB/s eta 0:00:01\n",
      "   ---------------------------------------  1.2/1.2 MB 1.5 MB/s eta 0:00:01\n",
      "   ---------------------------------------  1.2/1.2 MB 1.5 MB/s eta 0:00:01\n",
      "   ---------------------------------------  1.2/1.2 MB 1.5 MB/s eta 0:00:01\n",
      "   ---------------------------------------  1.2/1.2 MB 1.5 MB/s eta 0:00:01\n",
      "   ---------------------------------------  1.2/1.2 MB 1.5 MB/s eta 0:00:01\n",
      "   ---------------------------------------- 1.2/1.2 MB 1.2 MB/s eta 0:00:00\n",
      "Downloading wheel-0.45.1-py3-none-any.whl (72 kB)\n",
      "   ---------------------------------------- 0.0/72.5 kB ? eta -:--:--\n",
      "   ---------------------------------------  71.7/72.5 kB 4.1 MB/s eta 0:00:01\n",
      "   ---------------------------------------  71.7/72.5 kB 4.1 MB/s eta 0:00:01\n",
      "   ---------------------------------------  71.7/72.5 kB 4.1 MB/s eta 0:00:01\n",
      "   ---------------------------------------  71.7/72.5 kB 4.1 MB/s eta 0:00:01\n",
      "   ---------------------------------------  71.7/72.5 kB 4.1 MB/s eta 0:00:01\n",
      "   ---------------------------------------- 72.5/72.5 kB 285.6 kB/s eta 0:00:00\n",
      "Installing collected packages: wheel, setuptools\n",
      "  Attempting uninstall: wheel\n",
      "    Found existing installation: wheel 0.43.0\n",
      "    Uninstalling wheel-0.43.0:\n",
      "      Successfully uninstalled wheel-0.43.0\n",
      "  Attempting uninstall: setuptools\n",
      "    Found existing installation: setuptools 65.6.3\n",
      "    Uninstalling setuptools-65.6.3:\n",
      "      Successfully uninstalled setuptools-65.6.3\n",
      "Successfully installed setuptools-75.6.0 wheel-0.38.4\n"
     ]
    },
    {
     "name": "stderr",
     "output_type": "stream",
     "text": [
      "ERROR: pip's dependency resolver does not currently take into account all the packages that are installed. This behaviour is the source of the following dependency conflicts.\n",
      "tensorflow-gpu 2.9.2 requires flatbuffers<2,>=1.12, but you have flatbuffers 24.3.25 which is incompatible.\n",
      "tensorflow-gpu 2.9.2 requires gast<=0.4.0,>=0.2.1, but you have gast 0.5.4 which is incompatible.\n",
      "tensorflow-gpu 2.9.2 requires keras<2.10.0,>=2.9.0rc0, but you have keras 3.1.1 which is incompatible.\n",
      "tensorflow-gpu 2.9.2 requires protobuf<3.20,>=3.9.2, but you have protobuf 4.25.3 which is incompatible.\n",
      "tensorflow-gpu 2.9.2 requires tensorboard<2.10,>=2.9, but you have tensorboard 2.16.2 which is incompatible.\n",
      "tensorflow-gpu 2.9.2 requires tensorflow-estimator<2.10.0,>=2.9.0rc0, but you have tensorflow-estimator 2.15.0 which is incompatible.\n",
      "conda-repo-cli 1.0.27 requires clyent==1.2.1, but you have clyent 1.2.2 which is incompatible.\n",
      "conda-repo-cli 1.0.27 requires nbformat==5.4.0, but you have nbformat 5.10.4 which is incompatible.\n",
      "conda-repo-cli 1.0.27 requires python-dateutil==2.8.2, but you have python-dateutil 2.9.0.post0 which is incompatible.\n",
      "conda-repo-cli 1.0.27 requires PyYAML==6.0, but you have pyyaml 6.0.1 which is incompatible.\n",
      "conda-repo-cli 1.0.27 requires requests==2.28.1, but you have requests 2.31.0 which is incompatible.\n",
      "python-lsp-server 1.7.1 requires jedi<0.19.0,>=0.17.2, but you have jedi 0.19.1 which is incompatible.\n",
      "spyder 5.4.1 requires jedi<0.19.0,>=0.17.2, but you have jedi 0.19.1 which is incompatible.\n",
      "spyder 5.4.1 requires qtconsole<5.5.0,>=5.4.0, but you have qtconsole 5.5.1 which is incompatible.\n",
      "\n",
      "[notice] A new release of pip is available: 24.0 -> 24.3.1\n",
      "[notice] To update, run: python.exe -m pip install --upgrade pip\n"
     ]
    },
    {
     "name": "stdout",
     "output_type": "stream",
     "text": [
      "Requirement already satisfied: pip in c:\\users\\toddl\\appdata\\roaming\\python\\python310\\site-packages (24.0)\n",
      "Collecting pip\n",
      "  Downloading pip-24.3.1-py3-none-any.whl.metadata (3.7 kB)\n",
      "Downloading pip-24.3.1-py3-none-any.whl (1.8 MB)\n",
      "   ---------------------------------------- 0.0/1.8 MB ? eta -:--:--\n",
      "   -- ------------------------------------- 0.1/1.8 MB 2.6 MB/s eta 0:00:01\n",
      "   ------- -------------------------------- 0.3/1.8 MB 4.2 MB/s eta 0:00:01\n",
      "   ----------------- ---------------------- 0.8/1.8 MB 6.3 MB/s eta 0:00:01\n",
      "   -------------------------------- ------- 1.5/1.8 MB 8.5 MB/s eta 0:00:01\n",
      "   ---------------------------------------  1.8/1.8 MB 9.6 MB/s eta 0:00:01\n",
      "   ---------------------------------------  1.8/1.8 MB 9.6 MB/s eta 0:00:01\n",
      "   ---------------------------------------  1.8/1.8 MB 9.6 MB/s eta 0:00:01\n",
      "   ---------------------------------------  1.8/1.8 MB 9.6 MB/s eta 0:00:01\n",
      "   ---------------------------------------  1.8/1.8 MB 9.6 MB/s eta 0:00:01\n",
      "   ---------------------------------------  1.8/1.8 MB 9.6 MB/s eta 0:00:01\n",
      "   ---------------------------------------  1.8/1.8 MB 9.6 MB/s eta 0:00:01\n",
      "   ---------------------------------------- 1.8/1.8 MB 3.3 MB/s eta 0:00:00\n"
     ]
    },
    {
     "name": "stderr",
     "output_type": "stream",
     "text": [
      "ERROR: To modify pip, please run the following command:\n",
      "C:\\ProgramData\\Anaconda3\\python.exe -m pip install --upgrade pip\n",
      "\n",
      "[notice] A new release of pip is available: 24.0 -> 24.3.1\n",
      "[notice] To update, run: python.exe -m pip install --upgrade pip\n"
     ]
    },
    {
     "name": "stdout",
     "output_type": "stream",
     "text": [
      "^C\n"
     ]
    },
    {
     "name": "stdout",
     "output_type": "stream",
     "text": [
      "Collecting faiss-cpu==1.7.2\n",
      "  Downloading faiss_cpu-1.7.2-cp310-cp310-win_amd64.whl.metadata (1.4 kB)\n",
      "Collecting fairseq-fixed\n",
      "  Downloading fairseq_fixed-0.12.3.1.tar.gz (10.6 MB)\n",
      "     ---------------------------------------- 0.0/10.6 MB ? eta -:--:--\n",
      "     -- ------------------------------------- 0.6/10.6 MB 7.4 MB/s eta 0:00:02\n",
      "     ---- ----------------------------------- 1.3/10.6 MB 8.9 MB/s eta 0:00:02\n",
      "     --------- ------------------------------ 2.6/10.6 MB 11.8 MB/s eta 0:00:01\n",
      "     ------------ --------------------------- 3.4/10.6 MB 11.5 MB/s eta 0:00:01\n",
      "     ---------------- ----------------------- 4.3/10.6 MB 12.4 MB/s eta 0:00:01\n",
      "     -------------------- ------------------- 5.4/10.6 MB 12.8 MB/s eta 0:00:01\n",
      "     -------------------------- ------------- 7.1/10.6 MB 13.7 MB/s eta 0:00:01\n",
      "     -------------------------------- ------- 8.6/10.6 MB 14.4 MB/s eta 0:00:01\n",
      "     --------------------------------------  10.6/10.6 MB 15.2 MB/s eta 0:00:01\n",
      "     --------------------------------------  10.6/10.6 MB 15.2 MB/s eta 0:00:01\n",
      "     --------------------------------------  10.6/10.6 MB 15.2 MB/s eta 0:00:01\n",
      "     --------------------------------------  10.6/10.6 MB 15.2 MB/s eta 0:00:01\n",
      "     --------------------------------------  10.6/10.6 MB 15.2 MB/s eta 0:00:01\n",
      "     --------------------------------------  10.6/10.6 MB 15.2 MB/s eta 0:00:01\n",
      "     --------------------------------------  10.6/10.6 MB 15.2 MB/s eta 0:00:01\n",
      "     ---------------------------------------- 10.6/10.6 MB 8.6 MB/s eta 0:00:00\n",
      "  Installing build dependencies: started\n",
      "  Installing build dependencies: still running...\n",
      "  Installing build dependencies: still running...\n",
      "  Installing build dependencies: finished with status 'done'\n",
      "  Getting requirements to build wheel: started\n",
      "  Getting requirements to build wheel: finished with status 'done'\n",
      "  Preparing metadata (pyproject.toml): started\n",
      "  Preparing metadata (pyproject.toml): finished with status 'done'\n",
      "Collecting gradio\n",
      "  Downloading gradio-5.9.0-py3-none-any.whl.metadata (16 kB)\n",
      "Collecting ffmpeg\n",
      "  Downloading ffmpeg-1.4.tar.gz (5.1 kB)\n",
      "  Preparing metadata (setup.py): started\n",
      "  Preparing metadata (setup.py): finished with status 'error'\n"
     ]
    },
    {
     "name": "stderr",
     "output_type": "stream",
     "text": [
      "  error: subprocess-exited-with-error\n",
      "  \n",
      "  × python setup.py egg_info did not run successfully.\n",
      "  │ exit code: 1\n",
      "  ╰─> [1 lines of output]\n",
      "      ERROR: Can not execute `setup.py` since setuptools is not available in the build environment.\n",
      "      [end of output]\n",
      "  \n",
      "  note: This error originates from a subprocess, and is likely not a problem with pip.\n",
      "error: metadata-generation-failed\n",
      "\n",
      "× Encountered error while generating package metadata.\n",
      "╰─> See above for output.\n",
      "\n",
      "note: This is an issue with the package mentioned above, not pip.\n",
      "hint: See above for details.\n",
      "\n",
      "[notice] A new release of pip is available: 24.0 -> 24.3.1\n",
      "[notice] To update, run: python.exe -m pip install --upgrade pip\n"
     ]
    }
   ],
   "source": [
    "# @title #安装依赖\n",
    "!apt-get -y install build-essential python3-dev ffmpeg\n",
    "!pip3 install --upgrade setuptools wheel\n",
    "!pip3 install --upgrade pip\n",
    "!pip3 install faiss-cpu==1.7.2 fairseq-fixed gradio ffmpeg ffmpeg-python praat-parselmouth pyworld numpy numba librosa"
   ]
  },
  {
   "cell_type": "code",
   "execution_count": null,
   "metadata": {
    "id": "ge_97mfpgqTm"
   },
   "outputs": [],
   "source": [
    "# @title #\n",
    "#Clone a repo and cd into th enew directory\n",
    "content_root='/content'\n",
    "git_repo='https://github.com/toddlack/Retrieval-based-Voice-Conversion-WebUI.git'\n",
    "app_root=git_repo.split('/')[-1].replace('.git', '')\n",
    "%cd {content_root}\n",
    "!git clone {git_repo}\n",
    "%cd {app_root}\n",
    "\n",
    "\n",
    "# !mkdir Retrieval-based-Voice-Conversion-WebUI\n",
    "# %cd /content/Retrieval-based-Voice-Conversion-WebUI\n",
    "# !git init\n",
    "# !git remote add origin https://github.com/toddlack/Retrieval-based-Voice-Conversion-WebUI.git\n",
    "# !git fetch origin cfd984812804ddc9247d65b14c82cd32e56c1133 --depth=1\n",
    "# !git reset --hard FETCH_HEAD"
   ]
  },
  {
   "cell_type": "code",
   "execution_count": null,
   "metadata": {
    "id": "BLDEZADkvlw1"
   },
   "outputs": [],
   "source": [
    "# @title #更新仓库（一般无需执行）\n",
    "!git pull"
   ]
  },
  {
   "cell_type": "code",
   "execution_count": null,
   "metadata": {
    "id": "pqE0PrnuRqI2"
   },
   "outputs": [],
   "source": [
    "# @title #安装aria2\n",
    "!apt -y install -qq aria2"
   ]
  },
  {
   "cell_type": "code",
   "execution_count": null,
   "metadata": {
    "id": "UG3XpUwEomUz"
   },
   "outputs": [],
   "source": [
    "# @title 下载底模\n",
    "\n",
    "# v1\n",
    "!aria2c --console-log-level=error -c -x 16 -s 16 -k 1M https://huggingface.co/lj1995/VoiceConversionWebUI/resolve/main/pretrained/D32k.pth -d /content/Retrieval-based-Voice-Conversion-WebUI/pretrained -o D32k.pth\n",
    "!aria2c --console-log-level=error -c -x 16 -s 16 -k 1M https://huggingface.co/lj1995/VoiceConversionWebUI/resolve/main/pretrained/D40k.pth -d /content/Retrieval-based-Voice-Conversion-WebUI/pretrained -o D40k.pth\n",
    "!aria2c --console-log-level=error -c -x 16 -s 16 -k 1M https://huggingface.co/lj1995/VoiceConversionWebUI/resolve/main/pretrained/D48k.pth -d /content/Retrieval-based-Voice-Conversion-WebUI/pretrained -o D48k.pth\n",
    "!aria2c --console-log-level=error -c -x 16 -s 16 -k 1M https://huggingface.co/lj1995/VoiceConversionWebUI/resolve/main/pretrained/G32k.pth -d /content/Retrieval-based-Voice-Conversion-WebUI/pretrained -o G32k.pth\n",
    "!aria2c --console-log-level=error -c -x 16 -s 16 -k 1M https://huggingface.co/lj1995/VoiceConversionWebUI/resolve/main/pretrained/G40k.pth -d /content/Retrieval-based-Voice-Conversion-WebUI/pretrained -o G40k.pth\n",
    "!aria2c --console-log-level=error -c -x 16 -s 16 -k 1M https://huggingface.co/lj1995/VoiceConversionWebUI/resolve/main/pretrained/G48k.pth -d /content/Retrieval-based-Voice-Conversion-WebUI/pretrained -o G48k.pth\n",
    "!aria2c --console-log-level=error -c -x 16 -s 16 -k 1M https://huggingface.co/lj1995/VoiceConversionWebUI/resolve/main/pretrained/f0D32k.pth -d /content/Retrieval-based-Voice-Conversion-WebUI/pretrained -o f0D32k.pth\n",
    "!aria2c --console-log-level=error -c -x 16 -s 16 -k 1M https://huggingface.co/lj1995/VoiceConversionWebUI/resolve/main/pretrained/f0D40k.pth -d /content/Retrieval-based-Voice-Conversion-WebUI/pretrained -o f0D40k.pth\n",
    "!aria2c --console-log-level=error -c -x 16 -s 16 -k 1M https://huggingface.co/lj1995/VoiceConversionWebUI/resolve/main/pretrained/f0D48k.pth -d /content/Retrieval-based-Voice-Conversion-WebUI/pretrained -o f0D48k.pth\n",
    "!aria2c --console-log-level=error -c -x 16 -s 16 -k 1M https://huggingface.co/lj1995/VoiceConversionWebUI/resolve/main/pretrained/f0G32k.pth -d /content/Retrieval-based-Voice-Conversion-WebUI/pretrained -o f0G32k.pth\n",
    "!aria2c --console-log-level=error -c -x 16 -s 16 -k 1M https://huggingface.co/lj1995/VoiceConversionWebUI/resolve/main/pretrained/f0G40k.pth -d /content/Retrieval-based-Voice-Conversion-WebUI/pretrained -o f0G40k.pth\n",
    "!aria2c --console-log-level=error -c -x 16 -s 16 -k 1M https://huggingface.co/lj1995/VoiceConversionWebUI/resolve/main/pretrained/f0G48k.pth -d /content/Retrieval-based-Voice-Conversion-WebUI/pretrained -o f0G48k.pth\n",
    "\n",
    "# v2\n",
    "# !aria2c --console-log-level=error -c -x 16 -s 16 -k 1M https://huggingface.co/lj1995/VoiceConversionWebUI/resolve/main/pretrained_v2/D32k.pth -d /content/Retrieval-based-Voice-Conversion-WebUI/pretrained_v2 -o D32k.pth\n",
    "!aria2c --console-log-level=error -c -x 16 -s 16 -k 1M https://huggingface.co/lj1995/VoiceConversionWebUI/resolve/main/pretrained_v2/D40k.pth -d /content/Retrieval-based-Voice-Conversion-WebUI/pretrained_v2 -o D40k.pth\n",
    "# !aria2c --console-log-level=error -c -x 16 -s 16 -k 1M https://huggingface.co/lj1995/VoiceConversionWebUI/resolve/main/pretrained_v2/D48k.pth -d /content/Retrieval-based-Voice-Conversion-WebUI/pretrained_v2 -o D48k.pth\n",
    "# !aria2c --console-log-level=error -c -x 16 -s 16 -k 1M https://huggingface.co/lj1995/VoiceConversionWebUI/resolve/main/pretrained_v2/G32k.pth -d /content/Retrieval-based-Voice-Conversion-WebUI/pretrained_v2 -o G32k.pth\n",
    "!aria2c --console-log-level=error -c -x 16 -s 16 -k 1M https://huggingface.co/lj1995/VoiceConversionWebUI/resolve/main/pretrained_v2/G40k.pth -d /content/Retrieval-based-Voice-Conversion-WebUI/pretrained_v2 -o G40k.pth\n",
    "# !aria2c --console-log-level=error -c -x 16 -s 16 -k 1M https://huggingface.co/lj1995/VoiceConversionWebUI/resolve/main/pretrained_v2/G48k.pth -d /content/Retrieval-based-Voice-Conversion-WebUI/pretrained_v2 -o G48k.pth\n",
    "# !aria2c --console-log-level=error -c -x 16 -s 16 -k 1M https://huggingface.co/lj1995/VoiceConversionWebUI/resolve/main/pretrained_v2/f0D32k.pth -d /content/Retrieval-based-Voice-Conversion-WebUI/pretrained_v2 -o f0D32k.pth\n",
    "!aria2c --console-log-level=error -c -x 16 -s 16 -k 1M https://huggingface.co/lj1995/VoiceConversionWebUI/resolve/main/pretrained_v2/f0D40k.pth -d /content/Retrieval-based-Voice-Conversion-WebUI/pretrained_v2 -o f0D40k.pth\n",
    "# !aria2c --console-log-level=error -c -x 16 -s 16 -k 1M https://huggingface.co/lj1995/VoiceConversionWebUI/resolve/main/pretrained_v2/f0D48k.pth -d /content/Retrieval-based-Voice-Conversion-WebUI/pretrained_v2 -o f0D48k.pth\n",
    "# !aria2c --console-log-level=error -c -x 16 -s 16 -k 1M https://huggingface.co/lj1995/VoiceConversionWebUI/resolve/main/pretrained_v2/f0G32k.pth -d /content/Retrieval-based-Voice-Conversion-WebUI/pretrained_v2 -o f0G32k.pth\n",
    "!aria2c --console-log-level=error -c -x 16 -s 16 -k 1M https://huggingface.co/lj1995/VoiceConversionWebUI/resolve/main/pretrained_v2/f0G40k.pth -d /content/Retrieval-based-Voice-Conversion-WebUI/pretrained_v2 -o f0G40k.pth\n",
    "# !aria2c --console-log-level=error -c -x 16 -s 16 -k 1M https://huggingface.co/lj1995/VoiceConversionWebUI/resolve/main/pretrained_v2/f0G48k.pth -d /content/Retrieval-based-Voice-Conversion-WebUI/pretrained_v2 -o f0G48k.pth"
   ]
  },
  {
   "cell_type": "code",
   "execution_count": null,
   "metadata": {
    "id": "HugjmZqZRuiF"
   },
   "outputs": [],
   "source": [
    "# @title #下载人声分离模型\n",
    "!aria2c --console-log-level=error -c -x 16 -s 16 -k 1M https://huggingface.co/lj1995/VoiceConversionWebUI/resolve/main/uvr5_weights/HP2-人声vocals+非人声instrumentals.pth -d /content/Retrieval-based-Voice-Conversion-WebUI/uvr5_weights -o HP2-人声vocals+非人声instrumentals.pth\n",
    "!aria2c --console-log-level=error -c -x 16 -s 16 -k 1M https://huggingface.co/lj1995/VoiceConversionWebUI/resolve/main/uvr5_weights/HP5-主旋律人声vocals+其他instrumentals.pth -d /content/Retrieval-based-Voice-Conversion-WebUI/uvr5_weights -o HP5-主旋律人声vocals+其他instrumentals.pth"
   ]
  },
  {
   "cell_type": "code",
   "execution_count": null,
   "metadata": {
    "id": "2RCaT9FTR0ej"
   },
   "outputs": [],
   "source": [
    "# @title #下载hubert_base\n",
    "!aria2c --console-log-level=error -c -x 16 -s 16 -k 1M https://huggingface.co/lj1995/VoiceConversionWebUI/resolve/main/hubert_base.pt -d /content/Retrieval-based-Voice-Conversion-WebUI -o hubert_base.pt"
   ]
  },
  {
   "cell_type": "code",
   "execution_count": null,
   "metadata": {},
   "outputs": [],
   "source": [
    "# @title #下载rmvpe模型\n",
    "!aria2c --console-log-level=error -c -x 16 -s 16 -k 1M https://huggingface.co/lj1995/VoiceConversionWebUI/resolve/main/rmvpe.pt -d /content/Retrieval-based-Voice-Conversion-WebUI -o rmvpe.pt"
   ]
  },
  {
   "cell_type": "code",
   "execution_count": null,
   "metadata": {
    "id": "Mwk7Q0Loqzjx"
   },
   "outputs": [],
   "source": [
    "# @title #从谷歌云盘加载打包好的数据集到/content/dataset\n",
    "\n",
    "# @markdown 数据集位置\n",
    "DATASET = (\n",
    "    \"/content/drive/MyDrive/dataset/lulu20230327_32k.zip\"  # @param {type:\"string\"}\n",
    ")\n",
    "\n",
    "!mkdir -p /content/dataset\n",
    "!unzip -d /content/dataset -B {DATASET}"
   ]
  },
  {
   "cell_type": "code",
   "execution_count": null,
   "metadata": {
    "id": "PDlFxWHWEynD"
   },
   "outputs": [],
   "source": [
    "# @title #重命名数据集中的重名文件\n",
    "!ls -a /content/dataset/\n",
    "!rename 's/(\\w+)\\.(\\w+)~(\\d*)/$1_$3.$2/' /content/dataset/*.*~*"
   ]
  },
  {
   "cell_type": "code",
   "execution_count": null,
   "metadata": {
    "id": "7vh6vphDwO0b"
   },
   "outputs": [],
   "source": [
    "# @title #启动webui\n",
    "%cd /content/Retrieval-based-Voice-Conversion-WebUI\n",
    "# %load_ext tensorboard\n",
    "# %tensorboard --logdir /content/Retrieval-based-Voice-Conversion-WebUI/logs\n",
    "!python3 infer-web.py --colab --pycmd python3"
   ]
  },
  {
   "cell_type": "code",
   "execution_count": null,
   "metadata": {
    "id": "FgJuNeAwx5Y_"
   },
   "outputs": [],
   "source": [
    "# @title #手动将训练后的模型文件备份到谷歌云盘\n",
    "# @markdown #需要自己查看logs文件夹下模型的文件名，手动修改下方命令末尾的文件名\n",
    "\n",
    "# @markdown #模型名\n",
    "MODELNAME = \"lulu\"  # @param {type:\"string\"}\n",
    "# @markdown #模型epoch\n",
    "MODELEPOCH = 9600  # @param {type:\"integer\"}\n",
    "\n",
    "!cp /content/Retrieval-based-Voice-Conversion-WebUI/logs/{MODELNAME}/G_{MODELEPOCH}.pth /content/drive/MyDrive/{MODELNAME}_D_{MODELEPOCH}.pth\n",
    "!cp /content/Retrieval-based-Voice-Conversion-WebUI/logs/{MODELNAME}/D_{MODELEPOCH}.pth /content/drive/MyDrive/{MODELNAME}_G_{MODELEPOCH}.pth\n",
    "!cp /content/Retrieval-based-Voice-Conversion-WebUI/logs/{MODELNAME}/added_*.index /content/drive/MyDrive/\n",
    "!cp /content/Retrieval-based-Voice-Conversion-WebUI/logs/{MODELNAME}/total_*.npy /content/drive/MyDrive/\n",
    "\n",
    "!cp /content/Retrieval-based-Voice-Conversion-WebUI/weights/{MODELNAME}.pth /content/drive/MyDrive/{MODELNAME}{MODELEPOCH}.pth"
   ]
  },
  {
   "cell_type": "code",
   "execution_count": null,
   "metadata": {
    "id": "OVQoLQJXS7WX"
   },
   "outputs": [],
   "source": [
    "# @title 从谷歌云盘恢复pth\n",
    "# @markdown 需要自己查看logs文件夹下模型的文件名，手动修改下方命令末尾的文件名\n",
    "\n",
    "# @markdown 模型名\n",
    "MODELNAME = \"lulu\"  # @param {type:\"string\"}\n",
    "# @markdown 模型epoch\n",
    "MODELEPOCH = 7500  # @param {type:\"integer\"}\n",
    "\n",
    "!mkdir -p /content/Retrieval-based-Voice-Conversion-WebUI/logs/{MODELNAME}\n",
    "\n",
    "!cp /content/drive/MyDrive/{MODELNAME}_D_{MODELEPOCH}.pth /content/Retrieval-based-Voice-Conversion-WebUI/logs/{MODELNAME}/G_{MODELEPOCH}.pth\n",
    "!cp /content/drive/MyDrive/{MODELNAME}_G_{MODELEPOCH}.pth /content/Retrieval-based-Voice-Conversion-WebUI/logs/{MODELNAME}/D_{MODELEPOCH}.pth\n",
    "!cp /content/drive/MyDrive/*.index /content/\n",
    "!cp /content/drive/MyDrive/*.npy /content/\n",
    "!cp /content/drive/MyDrive/{MODELNAME}{MODELEPOCH}.pth /content/Retrieval-based-Voice-Conversion-WebUI/weights/{MODELNAME}.pth"
   ]
  },
  {
   "cell_type": "code",
   "execution_count": null,
   "metadata": {
    "id": "ZKAyuKb9J6dz"
   },
   "outputs": [],
   "source": [
    "# @title 手动预处理（不推荐）\n",
    "# @markdown 模型名\n",
    "MODELNAME = \"lulu\"  # @param {type:\"string\"}\n",
    "# @markdown 采样率\n",
    "BITRATE = 48000  # @param {type:\"integer\"}\n",
    "# @markdown 使用的进程数\n",
    "THREADCOUNT = 8  # @param {type:\"integer\"}\n",
    "\n",
    "!python3 trainset_preprocess_pipeline_print.py /content/dataset {BITRATE} {THREADCOUNT} logs/{MODELNAME} True"
   ]
  },
  {
   "cell_type": "code",
   "execution_count": null,
   "metadata": {
    "id": "CrxJqzAUKmPJ"
   },
   "outputs": [],
   "source": [
    "# @title 手动提取特征（不推荐）\n",
    "# @markdown 模型名\n",
    "MODELNAME = \"lulu\"  # @param {type:\"string\"}\n",
    "# @markdown 使用的进程数\n",
    "THREADCOUNT = 8  # @param {type:\"integer\"}\n",
    "# @markdown 音高提取算法\n",
    "ALGO = \"harvest\"  # @param {type:\"string\"}\n",
    "\n",
    "!python3 extract_f0_print.py logs/{MODELNAME} {THREADCOUNT} {ALGO}\n",
    "\n",
    "!python3 extract_feature_print.py cpu 1 0 0 logs/{MODELNAME} True"
   ]
  },
  {
   "cell_type": "code",
   "execution_count": null,
   "metadata": {
    "id": "IMLPLKOaKj58"
   },
   "outputs": [],
   "source": [
    "# @title 手动训练（不推荐）\n",
    "# @markdown 模型名\n",
    "MODELNAME = \"lulu\"  # @param {type:\"string\"}\n",
    "# @markdown 使用的GPU\n",
    "USEGPU = \"0\"  # @param {type:\"string\"}\n",
    "# @markdown 批大小\n",
    "BATCHSIZE = 32  # @param {type:\"integer\"}\n",
    "# @markdown 停止的epoch\n",
    "MODELEPOCH = 3200  # @param {type:\"integer\"}\n",
    "# @markdown 保存epoch间隔\n",
    "EPOCHSAVE = 100  # @param {type:\"integer\"}\n",
    "# @markdown 采样率\n",
    "MODELSAMPLE = \"48k\"  # @param {type:\"string\"}\n",
    "# @markdown 是否缓存训练集\n",
    "CACHEDATA = 1  # @param {type:\"integer\"}\n",
    "# @markdown 是否仅保存最新的ckpt文件\n",
    "ONLYLATEST = 0  # @param {type:\"integer\"}\n",
    "\n",
    "!python3 train_nsf_sim_cache_sid_load_pretrain.py -e lulu -sr {MODELSAMPLE} -f0 1 -bs {BATCHSIZE} -g {USEGPU} -te {MODELEPOCH} -se {EPOCHSAVE} -pg pretrained/f0G{MODELSAMPLE}.pth -pd pretrained/f0D{MODELSAMPLE}.pth -l {ONLYLATEST} -c {CACHEDATA}"
   ]
  },
  {
   "cell_type": "code",
   "execution_count": null,
   "metadata": {
    "id": "haYA81hySuDl"
   },
   "outputs": [],
   "source": [
    "# @title 删除其它pth，只留选中的（慎点，仔细看代码）\n",
    "# @markdown 模型名\n",
    "MODELNAME = \"lulu\"  # @param {type:\"string\"}\n",
    "# @markdown 选中模型epoch\n",
    "MODELEPOCH = 9600  # @param {type:\"integer\"}\n",
    "\n",
    "!echo \"备份选中的模型。。。\"\n",
    "!cp /content/Retrieval-based-Voice-Conversion-WebUI/logs/{MODELNAME}/G_{MODELEPOCH}.pth /content/{MODELNAME}_D_{MODELEPOCH}.pth\n",
    "!cp /content/Retrieval-based-Voice-Conversion-WebUI/logs/{MODELNAME}/D_{MODELEPOCH}.pth /content/{MODELNAME}_G_{MODELEPOCH}.pth\n",
    "\n",
    "!echo \"正在删除。。。\"\n",
    "!ls /content/Retrieval-based-Voice-Conversion-WebUI/logs/{MODELNAME}\n",
    "!rm /content/Retrieval-based-Voice-Conversion-WebUI/logs/{MODELNAME}/*.pth\n",
    "\n",
    "!echo \"恢复选中的模型。。。\"\n",
    "!mv /content/{MODELNAME}_D_{MODELEPOCH}.pth /content/Retrieval-based-Voice-Conversion-WebUI/logs/{MODELNAME}/G_{MODELEPOCH}.pth\n",
    "!mv /content/{MODELNAME}_G_{MODELEPOCH}.pth /content/Retrieval-based-Voice-Conversion-WebUI/logs/{MODELNAME}/D_{MODELEPOCH}.pth\n",
    "\n",
    "!echo \"删除完成\"\n",
    "!ls /content/Retrieval-based-Voice-Conversion-WebUI/logs/{MODELNAME}"
   ]
  },
  {
   "cell_type": "code",
   "execution_count": null,
   "metadata": {
    "id": "QhSiPTVPoIRh"
   },
   "outputs": [],
   "source": [
    "# @title 清除项目下所有文件，只留选中的模型（慎点，仔细看代码）\n",
    "# @markdown 模型名\n",
    "MODELNAME = \"lulu\"  # @param {type:\"string\"}\n",
    "# @markdown 选中模型epoch\n",
    "MODELEPOCH = 9600  # @param {type:\"integer\"}\n",
    "\n",
    "!echo \"备份选中的模型。。。\"\n",
    "!cp /content/Retrieval-based-Voice-Conversion-WebUI/logs/{MODELNAME}/G_{MODELEPOCH}.pth /content/{MODELNAME}_D_{MODELEPOCH}.pth\n",
    "!cp /content/Retrieval-based-Voice-Conversion-WebUI/logs/{MODELNAME}/D_{MODELEPOCH}.pth /content/{MODELNAME}_G_{MODELEPOCH}.pth\n",
    "\n",
    "!echo \"正在删除。。。\"\n",
    "!ls /content/Retrieval-based-Voice-Conversion-WebUI/logs/{MODELNAME}\n",
    "!rm -rf /content/Retrieval-based-Voice-Conversion-WebUI/logs/{MODELNAME}/*\n",
    "\n",
    "!echo \"恢复选中的模型。。。\"\n",
    "!mv /content/{MODELNAME}_D_{MODELEPOCH}.pth /content/Retrieval-based-Voice-Conversion-WebUI/logs/{MODELNAME}/G_{MODELEPOCH}.pth\n",
    "!mv /content/{MODELNAME}_G_{MODELEPOCH}.pth /content/Retrieval-based-Voice-Conversion-WebUI/logs/{MODELNAME}/D_{MODELEPOCH}.pth\n",
    "\n",
    "!echo \"删除完成\"\n",
    "!ls /content/Retrieval-based-Voice-Conversion-WebUI/logs/{MODELNAME}"
   ]
  }
 ],
 "metadata": {
  "accelerator": "GPU",
  "colab": {
   "private_outputs": true,
   "provenance": []
  },
  "gpuClass": "standard",
  "kernelspec": {
   "display_name": "base",
   "language": "python",
   "name": "python3"
  },
  "language_info": {
   "codemirror_mode": {
    "name": "ipython",
    "version": 3
   },
   "file_extension": ".py",
   "mimetype": "text/x-python",
   "name": "python",
   "nbconvert_exporter": "python",
   "pygments_lexer": "ipython3",
   "version": "3.10.9"
  }
 },
 "nbformat": 4,
 "nbformat_minor": 0
}
