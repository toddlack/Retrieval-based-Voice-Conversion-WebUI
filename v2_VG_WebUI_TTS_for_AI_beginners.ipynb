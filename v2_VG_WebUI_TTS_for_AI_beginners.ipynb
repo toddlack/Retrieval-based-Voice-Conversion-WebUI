{
  "nbformat": 4,
  "nbformat_minor": 0,
  "metadata": {
    "colab": {
      "private_outputs": true,
      "provenance": [],
      "collapsed_sections": [
        "zerYrlLkpFtS"
      ],
      "include_colab_link": true
    },
    "kernelspec": {
      "name": "python3",
      "display_name": "Python 3"
    },
    "language_info": {
      "name": "python"
    },
    "accelerator": "GPU",
    "gpuClass": "standard"
  },
  "cells": [
    {
      "cell_type": "markdown",
      "metadata": {
        "id": "view-in-github",
        "colab_type": "text"
      },
      "source": [
        "<a href=\"https://colab.research.google.com/github/toddlack/Retrieval-based-Voice-Conversion-WebUI/blob/main/v2_VG_WebUI_TTS_for_AI_beginners.ipynb\" target=\"_parent\"><img src=\"https://colab.research.google.com/assets/colab-badge.svg\" alt=\"Open In Colab\"/></a>"
      ]
    },
    {
      "cell_type": "markdown",
      "source": [
        "# **【RVC v2 model supported：How to start the VG WebUI】**<br>"
      ],
      "metadata": {
        "id": "Z02SGMbIsOhs"
      }
    },
    {
      "cell_type": "markdown",
      "source": [
        "AI Voice Changer thing released in April 2023<br><br>\n",
        "\n",
        "**RVC WebUI：**<br>\n",
        "[RVC-Project（旧liujing04）/Retrieval-based-Voice-Conversion-WebUI（The MIT License）| GitHub](https://github.com/RVC-Project/Retrieval-based-Voice-Conversion-WebUI)<br><br>\n",
        "\n",
        "Using a trained model created by,<br><br>\n",
        "\n",
        "**Text-To-Speech (makes a computer speak a specified sentence)**<br>\n",
        "＊Text-To-Speech: TTS<br><br>\n",
        "\n",
        "**VG WebUI：**<br>\n",
        "[log1stics/voice-generator-webui（The MIT License）| GitHub](https://github.com/log1stics/voice-generator-webui)<br>\n",
        "＊This notebook uses the forked<br>\n",
        "[SNisin/voice-generator-webui（The MIT License）| GitHub](https://github.com/SNisin/voice-generator-webui)<br>\n",
        "to support the **\"RVC v2 model\"**.<br><br>\n",
        "\n",
        "This is a tutorial on how to use.\n",
        "\n",
        "I hope that this series of information will help you get started with Text-To-Speech with a trained model created by AI Voice Changer.\n",
        "<br><br><br><br>\n",
        "**【How to run the code on Google Colaboratory】**<br><br>\n",
        "To begin with, to run the program on Google Colaboratory, follow the steps in\n",
        "<br><br>\n",
        "**①Sign in with your Google account**<br>\n",
        "**②Save a copy in Drive**（Save **\"VG-WebUI-TTS-for-AI-beginners.ipynb\"**）<br>\n",
        "＊ From the Google Colaboratory menu **\"File - Save a copy in Drive\"**\n",
        "<br><br>\n",
        "rename it to your choice, and then run the following code.<br><br>\n",
        "To run the code, just have them do the steps in\n",
        "<br><br>\n",
        "・**Run all**<br>\n",
        "＊ From the Google Colaboratory menu **\"Runtime - Run all\"**\n",
        "<br><br>\n",
        "Once you get the gist of it, the procedure to start the RVC WebUI is easy.<br>\n",
        "If the trained model is not reflected when VG WebUI is launched, try launching VG WebUI again after placing the trained model in place.\n",
        "<br><br><br>\n",
        "**【Information】**<Br>\n",
        "A tutorial video is now available.<br>\n",
        "If you can use this video in case you cannot understand the text information alone, I hope you will find it useful.\n",
        "\n",
        "Tutorial video：<br>\n",
        "[【TTS with RVC】How to Text To Speech with the RVC WebUI trained model-Tutorial for Voice AI beginners by RehabC（YouTube）](https://youtu.be/3DiHMPSMhCg)<br>\n",
        "Video viewing time： 15 min. 11 sec.<br><br>\n",
        "【Additional information：November 18, 2023】<br>\n",
        "I have modified this notebook so that VG WebUI can be used.\n",
        "<br><br>\n",
        "**【Additional information：July 28, 2024】**<br>\n",
        "I have modified this notebook so that VG WebUI can be used. <br><br>\n"
      ],
      "metadata": {
        "id": "reTEhPsUsTfx"
      }
    },
    {
      "cell_type": "markdown",
      "source": [
        "<br><br>\n",
        "**【Licensing of the Program】**\n",
        "<br>**The MIT License**\n",
        "\n",
        "Copyright 2023 child programmer\n",
        "\n",
        "Permission is hereby granted, free of charge, to any person obtaining a copy of this software and associated documentation files (the \"Software\"), to deal in the Software without restriction, including without limitation the rights to use, copy, modify, merge, publish, distribute, sublicense, and/or sell copies of the Software, and to permit persons to whom the Software is furnished to do so, subject to the following conditions:\n",
        "\n",
        "The above copyright notice and this permission notice shall be included in all copies or substantial portions of the Software.\n",
        "\n",
        "THE SOFTWARE IS PROVIDED \"AS IS\", WITHOUT WARRANTY OF ANY KIND, EXPRESS OR IMPLIED, INCLUDING BUT NOT LIMITED TO THE WARRANTIES OF MERCHANTABILITY, FITNESS FOR A PARTICULAR PURPOSE AND NONINFRINGEMENT. IN NO EVENT SHALL THE AUTHORS OR COPYRIGHT HOLDERS BE LIABLE FOR ANY CLAIM, DAMAGES OR OTHER LIABILITY, WHETHER IN AN ACTION OF CONTRACT, TORT OR OTHERWISE, ARISING FROM, OUT OF OR IN CONNECTION WITH THE SOFTWARE OR THE USE OR OTHER DEALINGS IN THE SOFTWARE.\n",
        "<br><br>"
      ],
      "metadata": {
        "id": "A-Ma3XJit98N"
      }
    },
    {
      "cell_type": "markdown",
      "source": [
        "##**【Step 1: Creating a trained model】**<br><br>\n",
        "In advance, create a trained model with the RVC WebUI.<br>\n",
        "If you do not know how to use RVC WebUI, please use this tutorial video.<br><br>\n",
        "\n",
        "**RVC WebUI tutorial video：**<br>\n",
        "**RVC WebUI tutorial video for RVC v2 model supported version**<br>\n",
        "[【The Magic of Modern Times】How to use RVC WebUI（RVC v2 model supported）- Tutorial for AI Beginners by RehabC（YouTube）](https://youtu.be/wPoct7LSyOo)<br>\n",
        "Video viewing time： 35 min. 27 sec.\n",
        "<br><br>\n"
      ],
      "metadata": {
        "id": "1Mh7qtjRwt9G"
      }
    },
    {
      "cell_type": "markdown",
      "source": [
        "##**【Step 2: Mount Google Drive】**<br><br>\n",
        "You can use folders and files on Google Drive.<br>\n",
        "After executing the following code, you will be asked for permission, so **\"Allow\"** with your Google Drive Google account."
      ],
      "metadata": {
        "id": "zerYrlLkpFtS"
      }
    },
    {
      "cell_type": "code",
      "source": [
        "from google.colab import drive\n",
        "drive.mount('/content/drive')"
      ],
      "metadata": {
        "id": "pRPhXvwWtzTA"
      },
      "execution_count": null,
      "outputs": []
    },
    {
      "cell_type": "markdown",
      "source": [
        "##**【Step 3: Prepare a folder with the trained model in Google Drive.】**<br><br>\n",
        "In  [Google Drive](https://www.google.com/intl/ja_ALL/drive/)  's **\"MyDrive\"**, prepare a folder called <br><br>\n",
        "・**\"amitaro\"** <br><br>\n",
        "in ofthat contains trained model created with RVC WebUI.<br>\n",
        "<br><br>\n",
        "**【Folder Structure】**<br>\n",
        "amitaro<br>\n",
        "　|---  amitaro.pth（Required file）<br>\n",
        "　|---  added.index（Not a required file）<br>\n",
        "　|---  total_fea.npy（Not a required file）<br>\n",
        "<br>\n",
        "＊Example of using training data named **\"amitaro.pth\"**<br>\n",
        "\n",
        "＊Download the file named **\"〜.pth\"** in the **\"weights\"** folder of the **\"Retrieval-based-Voice-Conversion-WebUI\"** folder.<br>\n",
        "\n",
        "＊Download the file named **\"added〜.index\"** in the **\"logs\"** folder of the **\"Retrieval-based-Voice-Conversion-WebUI\"** folder. After downloading, rename the file **\"added〜.index\"** to **\"added.index\"**.<br>\n",
        "\n",
        "＊Download the file **\"total_fea.npy\"** in the **\"logs\"** section of the **\"Retrieval-based-Voice-Conversion-WebUI\"** folder<br>\n",
        "\n",
        "＊Watch the RVC WebUI tutorial video to see where each file is located.\n",
        "<br><br>\n",
        "After uploading to Google Drive is complete Move the **\"amitaro\"** folder (the folder containing the trained model, etc.) to the **\"models\"** folder <br>\n",
        "\n",
        "＊Location of the **\"models\"** folder：<br>\n",
        "In the **\"vc\"** folder of the **\"voice-generator-webui\"** folder, there is a folder named **\"models\"**.\n",
        "if you run the code one by one, you will be able to see the **\"Step 4: Setup\"** program after running it.<br>\n",
        "\n",
        "＊If you **\"Run all\"**, you will see the folder **\"voice-generator-webui\"** after the **\"Step 4: Setup\"** program runs.\n",
        "\n"
      ],
      "metadata": {
        "id": "ftjBBXLipWjP"
      }
    },
    {
      "cell_type": "markdown",
      "source": [
        "##**【Step 4：Setup （GPU required）】**<br><br>\n",
        "If you are unable to check your GPU with the following commands, go to the Google Colaboratory menu<br><br>\n",
        "「**Runtime - Change runtime type - Hardware accelerator**」\n",
        "<br><br>\n",
        "and select **\"GPU\"**, then save and try running the code again.\n",
        "<br><br>\n",
        "**【Information】**<br>\n",
        "At the time of confirmation, there seemed to be some **\"incompatible\"** issues, but VG WebUI seemed to work.\n"
      ],
      "metadata": {
        "id": "vfSbGwlctgc5"
      }
    },
    {
      "cell_type": "code",
      "execution_count": null,
      "metadata": {
        "id": "5BwQ433trv3_"
      },
      "outputs": [],
      "source": [
        "!nvidia-smi\n",
        "!nvcc -V\n",
        "!free -h\n",
        "\n",
        "# As of July 28, 2024: Downgraded Google Colaboratory \"pip\" version \"pip==24.1.2\" to counter errors such as “fairseq 0.12.2 depends on omegaconf<2.1\"\n",
        "!python3 -m pip install --upgrade pip==22.3\n",
        "# As of July 28, 2024: \"omegaconf\" version designation\n",
        "!pip3 install omegaconf==2.0.6\n",
        "# As of July 28, 2024: Countermeasure for \"typeguard\" related errors and “Cannot install fairseq and fairseq==0.12.2\"\n",
        "!pip3 install typeguard==3.0.2 inflect==6.0.5 albumentations==1.3.1 albucore==0.0.5\n",
        "# As of July 28, 2024: dDwngrade \"PyTorch\" version to 2.0.0 + Adjust dependencies (As of July 28, 2024: torch 2.3.1+cu121)\n",
        "!pip3 install torch==2.0.0 torchtext==0.15.1 torchvision==0.15.1 torchaudio==2.0.1\n",
        "\n",
        "\n",
        "!pip uninstall -y cmake\n",
        "!wget https://github.com/Kitware/CMake/releases/download/v3.22.1/cmake-3.22.1-linux-x86_64.tar.gz\n",
        "!tar xf cmake-3.22.1-linux-x86_64.tar.gz\n",
        "!rm cmake-3.22.1-linux-x86_64.tar.gz\n",
        "!PATH=$PATH:/content/cmake-3.22.1-linux-x86_64/bin\n",
        "import os\n",
        "os.environ[\"PATH\"] += \":/content/cmake-3.22.1-linux-x86_64/bin\"\n",
        "\n",
        "!apt-get install espeak\n",
        "# As of July 28, 2024: Changed to use the latest version of “langchain” and added installation of “langchain-community” to prevent error “No module named ‘langchain_community’”.\n",
        "!pip3 install langchain langchain-community\n",
        "# As of July 28, 2024: Errors “pydantic-core 2.19.0 requires typing-extensions!=4.7.0,>=4.6.0,” “ImportError: cannot import name ‘cast’ from 'typing_ extensions'” Change \"typing-extensions==4.5.0\" to \"typing-extensions==4.7.0\" for countermeasure \"typing-extensions==4.5.0\" to typing-extensions==4.7.1\"\n",
        "!pip3 install kaleido cohere openai tiktoken typing-extensions==4.7.1 fastapi python-multipart uvicorn importlib-metadata==4.13.0 sqlalchemy==1.4.50 ipython-sql==0.4.0 tensorflow-probability==0.20.1 gradio==3.34.0 typeguard==2.13.3 tensorboardX\n",
        "\n",
        "!git clone https://github.com/SNisin/voice-generator-webui\n",
        "%cd voice-generator-webui\n",
        "\n",
        "folder = r\"/content/voice-generator-webui/vc/models\"\n",
        "if not os.path.exists(folder):\n",
        "  os.mkdir(folder)\n",
        "\n",
        "!chmod +x setup.sh\n",
        "!./setup.sh\n"
      ]
    },
    {
      "cell_type": "markdown",
      "source": [
        "As of July 28, 2024, when **【Step 4: Setup (GPU required)】** is executed, the following output appears at the end.\n",
        "\n",
        "```\n",
        "# Output\n",
        "performance hint: core.pyx:7:5: Exception check on 'maximum_path_each' will always require the GIL to be acquired.\n",
        "Possible solutions:\n",
        "\t1. Declare 'maximum_path_each' as 'noexcept' if you control the definition and you're sure you don't want the function to raise exceptions.\n",
        "\t2. Use an 'int' return type on 'maximum_path_each' to allow an error code to be returned.\n",
        "performance hint: core.pyx:38:6: Exception check on 'maximum_path_c' will always require the GIL to be acquired.\n",
        "Possible solutions:\n",
        "\t1. Declare 'maximum_path_c' as 'noexcept' if you control the definition and you're sure you don't want the function to raise exceptions.\n",
        "\t2. Use an 'int' return type on 'maximum_path_c' to allow an error code to be returned.\n",
        "performance hint: core.pyx:42:21: Exception check after calling 'maximum_path_each' will always require the GIL to be acquired.\n",
        "Possible solutions:\n",
        "\t1. Declare 'maximum_path_each' as 'noexcept' if you control the definition and you're sure you don't want the function to raise exceptions.\n",
        "\t2. Use an 'int' return type on 'maximum_path_each' to allow an error code to be returned.\n",
        "\n",
        "```\n",
        "It seemed that VG WebUI could be used without any special measures.\n",
        "<br><br><br>"
      ],
      "metadata": {
        "id": "XfkMEHgB3N8_"
      }
    },
    {
      "cell_type": "markdown",
      "source": [
        "##**【Step 5: Launch the VG WebUI】**<br>\n",
        "\n",
        "Performs Text-To-Speech on the web interface.\n",
        "You can use the VG WebUI by clicking on the <br><br>\n",
        "**Running on public URL: https://〜.gradio.live**<br><br>\n",
        "URL displayed after executing the following code.\n",
        "\n",
        "If the trained model is not reflected, try running this code again.<br><br>\n",
        "**【Information】**<br>\n",
        "According to the information available at the time of confirmation, the **\"ESPnet\"** functionality seemed to be unusable with the error<br>\n",
        "**\"IndexError: list index out of range\"**.<br>\n",
        "\n",
        "The **\"Generate\"** function confirmed that the **\"RVC v1 model\"** and **\"RVC v2 model\"** are available.\n",
        "<br>\n",
        "\n",
        "Once **\"Generate from text\"** was executed, changing **\"Speaker\"** seemed to cause an error. As an example of how to deal with this, if you stop the code in **【Step 5: Launch the VG WebUI】**and execute it again, you will be able to use a different **\"Speaker\"** by using the VG WebUI linked to the **\"Public URL\"** displayed after executing the code again.<br>\n",
        "（A few, but some Speakers seemed to be able to change it normally.）<br>\n",
        "\n",
        "Otherwise, it seemed that changing the sentence even shorter would normally change the **\"\"Speaker\"\"**."
      ],
      "metadata": {
        "id": "Rgd7eaaStji_"
      }
    },
    {
      "cell_type": "code",
      "source": [
        "!python3 webui.py --colab"
      ],
      "metadata": {
        "id": "mhJxbzJCr2lF"
      },
      "execution_count": null,
      "outputs": []
    },
    {
      "cell_type": "markdown",
      "source": [
        "# **【How to use VG WebUI】**<br>"
      ],
      "metadata": {
        "id": "4nzy63aSzquy"
      }
    },
    {
      "cell_type": "markdown",
      "source": [
        "# **【Text-To-Speech】**<br>\n",
        "<br>See the following article page.<br><br>\n",
        "**Tutorial Article:**<br>\n",
        " [【VG WebUI】How to TTS(Text To Speech) with the RVC WebUI trained model - Introduction to TTS with RVC by Child Programmer](https://child-programmer.com/ai-voice-change-tts-tutorial-en/)"
      ],
      "metadata": {
        "id": "JLsKmts3zwnv"
      }
    },
    {
      "cell_type": "markdown",
      "source": [
        "# 【Next Steps: Addendum - January 1, 2024】<br>\n",
        "Tutorial code for VALL-E X, which enables text-to-speech synthesis by simply inputting a voice file of a few seconds (about 3 to 10 seconds), reflecting voice quality as well as emotion, is also available.<br>\n",
        "With RVC, it took time to prepare the audio files and to learn them, but with VALL-E X, one audio file of a few seconds is all that is needed....\n",
        "<br><br>\n",
        "**Tutorial Code for VALL-E X：**<br>\n",
        "[VALL-EX-for-Japanese-AI-Beginners.ipynb（The MIT License）| Google Colaboratory](https://colab.research.google.com/drive/1aJuxHtaTDaJLMLEXKDT5uhaIAUn0WBwb?usp=sharing)<br>\n",
        "＊Although the explanation is in Japanese, please refer to the tutorial video to get an idea of how to use it, if necessary."
      ],
      "metadata": {
        "id": "IZkPB1D58KB9"
      }
    },
    {
      "cell_type": "markdown",
      "source": [
        "<br><br>**【publication date】**August 13, 2023<br>\n",
        "**【Last updated】**July 28, 2024<br>\n",
        "\n",
        "\n",
        "<br><br>\n",
        "[日本人のための人工知能プログラマー入門講座（機械学習）by 子供プログラマー](https://child-programmer.com/ai/)<br>\n",
        "An Introductory Course for Japanese Artificial Intelligence Programmers (Machine Learning) by Child Programmer"
      ],
      "metadata": {
        "id": "x7sV0rPj0BCH"
      }
    }
  ]
}